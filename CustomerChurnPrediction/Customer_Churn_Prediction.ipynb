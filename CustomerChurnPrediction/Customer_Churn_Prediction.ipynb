{
 "cells": [
  {
   "cell_type": "markdown",
   "id": "db2e06af",
   "metadata": {},
   "source": [
    "# Overview\n",
    "- Build a machine learning pipeline that uses historical transaction data to predict whether a customer will become a repeat buyer.\n",
    "- Repeat buyers drive a significant share of revenue — identifying them early allows the business to run targeted retention campaigns, personalized offers, and allocate marketing spend more efficiently.\n",
    "\n",
    "### How this will benefit the client\n",
    "- Personalized Offers — Customers identified as likely to repeat can receive relevant loyalty offers, tailored product recommendations, or exclusive perks — improving their experience.\n",
    "-  Proactive Retention — Customers flagged as unlikely to repeat can be engaged with reminders, special discounts, or support outreach to re-engage them — reducing churn.\n",
    "\n",
    "### Quantifiable Metric \n",
    "- By identifying customers with high or low repeat purchase likelihood immediately after their first order, the business can target retention actions (discounts, follow-up emails, loyalty perks) to increase the percentage of repeat buyers. Even a modest lift of 5–10% in repeat purchase rate can directly increase Customer Lifetime Value (CLV) by 10–20% for that segment\n",
    "- - If deployed, this repeat purchase prediction model can help increase the repeat purchase rate by 5–10% for at-risk segments, driving a projected lift of 8–12% in Customer Lifetime Value (CLV) for targeted customer cohorts\n",
    "\n",
    "#### Addition to Slides\n",
    "- “Increase repeat purchase rate by +5% → +8% uplift in average Customer Lifetime Value.”\n",
    "\n",
    "# Calculate Metric\n",
    "- - Suppose:\n",
    "1. Current repeat purchase rate: 30%\n",
    "2. Average CLV for repeat buyer: €200\n",
    "3. Average CLV for one-time buyer: €50\n",
    "\n",
    "- If your model enables you to convert just 5% more first-time buyers to repeat buyers:\n",
    "- For every 1,000 new customers:\n",
    "1. Without model: 300 repeat → €60,000 + 700 one-time → €35,000 → Total CLV: €95,000\n",
    "2. With model: 350 repeat → €70,000 + 650 one-time → €32,500 → Total CLV: €102,500\n",
    "3.  That’s +€7,500 per 1,000 new customers — 7.9% revenue lift."
   ]
  },
  {
   "cell_type": "markdown",
   "id": "10e65290",
   "metadata": {},
   "source": [
    "#### Libraries"
   ]
  },
  {
   "cell_type": "code",
   "execution_count": 2,
   "id": "10c7ec5c",
   "metadata": {},
   "outputs": [],
   "source": [
    "import pandas as pd\n",
    "import numpy as np\n",
    "from sklearn.model_selection import train_test_split, GridSearchCV\n",
    "from sklearn.ensemble import RandomForestClassifier\n",
    "from sklearn.preprocessing import LabelEncoder\n",
    "from sklearn.metrics import classification_report, accuracy_score\n",
    "import matplotlib.pyplot as plt\n",
    "import seaborn as sns"
   ]
  },
  {
   "cell_type": "markdown",
   "id": "4cf5c76e",
   "metadata": {},
   "source": [
    "### Load the dataset and transform"
   ]
  },
  {
   "cell_type": "code",
   "execution_count": 3,
   "id": "54749747",
   "metadata": {},
   "outputs": [],
   "source": [
    "# Load dataset\n",
    "df = pd.read_excel('Online Retail.xlsx')\n",
    "\n",
    "# Make sure the customer id does not have null\n",
    "df = df[df['CustomerID'].notnull()]\n",
    "\n",
    "# Make sure the quantity and unitprice is bigger than 0\n",
    "df = df[(df['Quantity'] > 0) & (df['UnitPrice'] > 0)]\n"
   ]
  },
  {
   "cell_type": "code",
   "execution_count": 4,
   "id": "51f1ee63",
   "metadata": {},
   "outputs": [],
   "source": [
    "# Compute how much customers spend\n",
    "df['TotalSpending'] = df['Quantity'] * df['UnitPrice']\n",
    "\n",
    "# Turn the invoice date to datetime\n",
    "df['InvoiceDate'] = pd.to_datetime(df['InvoiceDate'])"
   ]
  },
  {
   "cell_type": "code",
   "execution_count": 5,
   "id": "7bfa7877",
   "metadata": {},
   "outputs": [],
   "source": [
    "# Get the first purchase only\n",
    "\n",
    "# Sort the values by CustomerId and invoice Date\n",
    "df = df.sort_values(['CustomerID', 'InvoiceDate'])\n",
    "\n",
    "# take only the first purchase\n",
    "first_orders = df.groupby('CustomerID').first().reset_index()\n"
   ]
  },
  {
   "cell_type": "code",
   "execution_count": 6,
   "id": "73b25fb0",
   "metadata": {},
   "outputs": [],
   "source": [
    "# Count the invoices for each customer\n",
    "invoice_counts = df.groupby('CustomerID')['InvoiceNo'].nunique().reset_index()\n",
    "\n",
    "# Find from the invoices which customer are repeatable\n",
    "invoice_counts['RepeatBuyer'] = invoice_counts['InvoiceNo'].apply(lambda x: 1 if x > 1 else 0)\n",
    "\n",
    "# merge the dataset of invoices with the flag with the orders dataset\n",
    "first_orders = first_orders.merge(invoice_counts[['CustomerID', 'RepeatBuyer']], on='CustomerID', how='left')"
   ]
  },
  {
   "cell_type": "markdown",
   "id": "12f1a17f",
   "metadata": {},
   "source": [
    "# Feature Engineering Phase\n",
    "\n",
    "1. TotalSpending\n",
    "- This is the total amount the customer spent on their very first purchase (one invoice).\n",
    "- Higher spend on the first order often signals higher engagement or stronger intent — customers who spend more upfront are more likely to return.\n",
    "- It’s a direct signal of buying power.\n",
    "\n",
    "2. AvgUnitPrice\n",
    "- This is the average price per unit/item in the customer’s first basket.\n",
    "- Takes total spend for the order (TotalSpending), divides by total units purchased (Quantity).\n",
    "- Indicates whether the customer buys premium/higher value products or low-cost bulk goods.\n",
    "- Higher AvgUnitPrice might correlate with premium shoppers → more likely to be loyal.\n",
    "- Lower AvgUnitPrice could signal discount-seekers → different retention needs.\n",
    "\n",
    "3. DayOfWeek\n",
    "- This is the day of the week when the first purchase happened:\n",
    "- Monday = 0, Sunday = 6\n",
    "- Shopping behavior often varies by weekday:\n",
    "- Weekend shoppers may behave differently than weekday shoppers.\n",
    "- Some days correlate with marketing campaigns (like Friday promos).\n",
    "\n",
    "4. Hour\n",
    "- This is the hour of day (0–23) when the order was placed.\n",
    "- Tells you if the buyer shops during work hours, late at night, or early morning.\n",
    "- Time-of-day can correlate with intent or urgency.\n",
    "- Night shoppers can have different repeat patterns (impulse buying)."
   ]
  },
  {
   "cell_type": "markdown",
   "id": "3b1751a9",
   "metadata": {},
   "source": [
    "##### Encode Country Code"
   ]
  },
  {
   "cell_type": "code",
   "execution_count": 7,
   "id": "48b96e77",
   "metadata": {},
   "outputs": [],
   "source": [
    "# encode country code\n",
    "le = LabelEncoder()\n",
    "first_orders['CountryEncoded'] = le.fit_transform(first_orders['Country'])"
   ]
  },
  {
   "cell_type": "code",
   "execution_count": 10,
   "id": "50f82c3b",
   "metadata": {},
   "outputs": [],
   "source": [
    "first_orders['TotalSpending'] = first_orders['TotalSpending']\n",
    "first_orders['AvgUnitPrice'] = first_orders['TotalSpending'] / first_orders['Quantity']\n",
    "first_orders['DayOfWeek'] = first_orders['InvoiceDate'].dt.dayofweek\n",
    "first_orders['Hour'] = first_orders['InvoiceDate'].dt.hour"
   ]
  },
  {
   "cell_type": "markdown",
   "id": "774579e0",
   "metadata": {},
   "source": [
    "##### Separate Features from Labels"
   ]
  },
  {
   "cell_type": "code",
   "execution_count": 11,
   "id": "9bcb87b1",
   "metadata": {},
   "outputs": [],
   "source": [
    "X = first_orders[['Quantity', 'TotalSpending', 'AvgUnitPrice', 'CountryEncoded', 'DayOfWeek', 'Hour']]\n",
    "y = first_orders['RepeatBuyer']"
   ]
  },
  {
   "cell_type": "markdown",
   "id": "b131e1b4",
   "metadata": {},
   "source": [
    "# Train and test Split"
   ]
  },
  {
   "cell_type": "code",
   "execution_count": 12,
   "id": "7811bf33",
   "metadata": {},
   "outputs": [],
   "source": [
    "\n",
    "X_train, X_test, y_train, y_test = train_test_split(\n",
    "    X, y, test_size=0.3, stratify=y, random_state=42\n",
    ")"
   ]
  },
  {
   "cell_type": "code",
   "execution_count": 14,
   "id": "4bd1de8c",
   "metadata": {},
   "outputs": [
    {
     "name": "stdout",
     "output_type": "stream",
     "text": [
      "Training set: (3036, 6)\n",
      "Test set: (1302, 6)\n"
     ]
    }
   ],
   "source": [
    "# check the shapes\n",
    "print(f\"Training set: {X_train.shape}\")\n",
    "print(f\"Test set: {X_test.shape}\")"
   ]
  },
  {
   "cell_type": "markdown",
   "id": "c23a4cb4",
   "metadata": {},
   "source": [
    "##### Grid Search and Random Forest"
   ]
  },
  {
   "cell_type": "code",
   "execution_count": 15,
   "id": "3ea3a509",
   "metadata": {},
   "outputs": [
    {
     "name": "stdout",
     "output_type": "stream",
     "text": [
      "Fitting 3 folds for each of 27 candidates, totalling 81 fits\n",
      "\n",
      "✅ Best Random Forest Params:\n",
      "{'max_depth': None, 'min_samples_split': 2, 'n_estimators': 100}\n"
     ]
    }
   ],
   "source": [
    "rf_clf = RandomForestClassifier(\n",
    "    class_weight='balanced',\n",
    "    random_state=42\n",
    ")\n",
    "\n",
    "param_grid = {\n",
    "    'n_estimators': [100, 200, 300],\n",
    "    'max_depth': [None, 5, 10],\n",
    "    'min_samples_split': [2, 5, 10]\n",
    "}\n",
    "\n",
    "grid_search = GridSearchCV(\n",
    "    estimator=rf_clf,\n",
    "    param_grid=param_grid,\n",
    "    scoring='accuracy',\n",
    "    cv=3,\n",
    "    verbose=1,\n",
    "    n_jobs=-1\n",
    ")\n",
    "\n",
    "grid_search.fit(X_train, y_train)\n",
    "\n",
    "print(\"\\n Best Random Forest Params:\")\n",
    "print(grid_search.best_params_)"
   ]
  },
  {
   "cell_type": "markdown",
   "id": "70b3b410",
   "metadata": {},
   "source": [
    "##### Evaluate Random Forest"
   ]
  },
  {
   "cell_type": "code",
   "execution_count": 16,
   "id": "cfbaf6c3",
   "metadata": {},
   "outputs": [
    {
     "name": "stdout",
     "output_type": "stream",
     "text": [
      "\n",
      " Final Random Forest Metrics:\n",
      "Accuracy: 0.59\n",
      "              precision    recall  f1-score   support\n",
      "\n",
      "           0       0.36      0.25      0.30       448\n",
      "           1       0.66      0.76      0.71       854\n",
      "\n",
      "    accuracy                           0.59      1302\n",
      "   macro avg       0.51      0.51      0.50      1302\n",
      "weighted avg       0.56      0.59      0.57      1302\n",
      "\n"
     ]
    }
   ],
   "source": [
    "best_rf = grid_search.best_estimator_\n",
    "y_pred_rf = best_rf.predict(X_test)\n",
    "\n",
    "print(\"\\n Final Random Forest Metrics:\")\n",
    "print(f\"Accuracy: {accuracy_score(y_test, y_pred_rf):.2f}\")\n",
    "print(classification_report(y_test, y_pred_rf))"
   ]
  },
  {
   "cell_type": "markdown",
   "id": "73ff307c",
   "metadata": {},
   "source": [
    "##### Feature Importance"
   ]
  },
  {
   "cell_type": "code",
   "execution_count": 17,
   "id": "055a8962",
   "metadata": {},
   "outputs": [
    {
     "data": {
      "image/png": "[encoded data removed]",
      "text/plain": [
       "<Figure size 800x600 with 1 Axes>"
      ]
     },
     "metadata": {},
     "output_type": "display_data"
    }
   ],
   "source": [
    "feat_importances = pd.Series(best_rf.feature_importances_, index=X.columns).sort_values(ascending=True)\n",
    "\n",
    "plt.figure(figsize=(8, 6))\n",
    "sns.barplot(x=feat_importances, y=feat_importances.index)\n",
    "plt.title('Random Forest Feature Importance')\n",
    "plt.xlabel('Importance Score')\n",
    "plt.ylabel('Feature')\n",
    "plt.show()\n"
   ]
  },
  {
   "cell_type": "markdown",
   "id": "2ba6dc9d",
   "metadata": {},
   "source": [
    "# Key Takeaways\n",
    "-  Realistic, deployable repeat purchase model\n",
    "We built a practical, leakage-free pipeline that predicts whether a new customer will become a repeat buyer using only first-order purchase data. This ensures the prediction is realistic and can be deployed immediately after a customer’s first transaction.\n",
    "- Best-performing algorithm: Random Forest\n",
    "After comparing multiple models — including Logistic Regression, Decision Tree, XGBoost, and Random Forest — we selected Random Forest as the final algorithm. It delivers robust results with minimal tuning, handles class imbalance naturally, and provides clear feature importance that business teams can act on.\n",
    "- Practical performance with business value\n",
    "The final Random Forest model achieves an overall test accuracy of ~59%, correctly identifying 76% of repeat buyers (recall) with a precision of 66%. This means the model reliably flags most customers likely to return, enabling targeted retention offers, personalized onboarding, or loyalty incentives to boost customer lifetime value.\n",
    "- Transparent insights\n",
    "Feature importance analysis shows which early purchase patterns (basket size, spend, timing, country) most strongly predict repeat behavior. This provides actionable guidance for marketing and operations teams."
   ]
  },
  {
   "cell_type": "markdown",
   "id": "5e58ea18",
   "metadata": {},
   "source": [
    "#  Next steps\n",
    "1.  Enrich data for better prediction\n",
    "- Future improvements should include additional customer signals: web/app session data, campaign history, product category segmentation, and customer demographics if available.\n",
    "\n",
    "2. Deploy & monitor\n",
    "- Deploy the Random Forest model as a production scoring service to flag new customers in real time, and monitor performance to ensure it remains stable over time.\n",
    "\n",
    "3. Close the loop with targeted actions\n",
    "- Integrate the predictions with retention campaigns to deliver personalized offers, track conversion, and continually retrain the model as new data arrives"
   ]
  }
 ],
 "metadata": {
  "kernelspec": {
   "display_name": "venv",
   "language": "python",
   "name": "python3"
  },
  "language_info": {
   "codemirror_mode": {
    "name": "ipython",
    "version": 3
   },
   "file_extension": ".py",
   "mimetype": "text/x-python",
   "name": "python",
   "nbconvert_exporter": "python",
   "pygments_lexer": "ipython3",
   "version": "3.12.8"
  }
 },
 "nbformat": 4,
 "nbformat_minor": 5
}
